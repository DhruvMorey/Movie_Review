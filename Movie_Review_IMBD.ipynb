{
  "nbformat": 4,
  "nbformat_minor": 0,
  "metadata": {
    "colab": {
      "provenance": []
    },
    "kernelspec": {
      "name": "python3",
      "display_name": "Python 3"
    },
    "language_info": {
      "name": "python"
    }
  },
  "cells": [
    {
      "cell_type": "code",
      "execution_count": 34,
      "metadata": {
        "id": "a2bG-O7MK1Xj"
      },
      "outputs": [],
      "source": [
        "import numpy as np\n",
        "import pandas as pd\n",
        "from keras import models\n",
        "from keras import layers\n",
        "\n",
        "import matplotlib.pyplot as plt\n",
        "%matplotlib inline\n",
        "\n",
        "\n",
        "from keras.datasets import imdb\n"
      ]
    },
    {
      "cell_type": "code",
      "source": [
        "# Load the data, keeping only 10,000 of the most frequently occuring words\n",
        "(train_data, train_labels), (test_data, test_labels) = imdb.load_data(num_words = 10000)"
      ],
      "metadata": {
        "id": "zhTqrMLVMoBt"
      },
      "execution_count": 20,
      "outputs": []
    },
    {
      "cell_type": "code",
      "source": [
        "# Here is a list of maximum indexes in every review\n",
        "print(type([max(sequence) for sequence in train_data]))\n"
      ],
      "metadata": {
        "colab": {
          "base_uri": "https://localhost:8080/"
        },
        "id": "dsPpJO4ELuFU",
        "outputId": "d28a622e-e15f-4ce3-f54d-a448d294c766"
      },
      "execution_count": 22,
      "outputs": [
        {
          "output_type": "stream",
          "name": "stdout",
          "text": [
            "<class 'list'>\n"
          ]
        }
      ]
    },
    {
      "cell_type": "code",
      "source": [
        "# Find the maximum of all max indexes\n",
        "max([max(sequence) for sequence in train_data])\n",
        "\n"
      ],
      "metadata": {
        "colab": {
          "base_uri": "https://localhost:8080/"
        },
        "id": "0Gy_HOluM2K0",
        "outputId": "8b94bcdf-4f0a-478f-d3dc-548b33026fa3"
      },
      "execution_count": 23,
      "outputs": [
        {
          "output_type": "execute_result",
          "data": {
            "text/plain": [
              "9999"
            ]
          },
          "metadata": {},
          "execution_count": 23
        }
      ]
    },
    {
      "cell_type": "code",
      "source": [
        "# step 1: load the dictionary mappings from word to integer index\n",
        "word_index = imdb.get_word_index()\n"
      ],
      "metadata": {
        "id": "WmfiXh-vNVHL"
      },
      "execution_count": 24,
      "outputs": []
    },
    {
      "cell_type": "code",
      "source": [
        "# step 2: reverse word index to map integer indexes to their respective words\n",
        "reverse_word_index = dict([(value, key) for (key, value) in word_index.items()])\n"
      ],
      "metadata": {
        "id": "p5pkYjg5NY3i"
      },
      "execution_count": 25,
      "outputs": []
    },
    {
      "cell_type": "code",
      "source": [
        "# Step 3: decode the review, mapping integer indices to words\n",
        "# indices are off by 3 because 0, 1, and 2 are reserverd indices for \"padding\", \"Start of\n",
        "decoded_review = ' '.join([reverse_word_index.get(i-3, '?') for i in train_data[0]])\n",
        "decoded_review\n"
      ],
      "metadata": {
        "colab": {
          "base_uri": "https://localhost:8080/",
          "height": 140
        },
        "id": "i5vowcglNera",
        "outputId": "f64ca1fc-fe6c-486f-cce4-fdbc6b2fcbd6"
      },
      "execution_count": 26,
      "outputs": [
        {
          "output_type": "execute_result",
          "data": {
            "text/plain": [
              "\"? this film was just brilliant casting location scenery story direction everyone's really suited the part they played and you could just imagine being there robert ? is an amazing actor and now the same being director ? father came from the same scottish island as myself so i loved the fact there was a real connection with this film the witty remarks throughout the film were great it was just brilliant so much that i bought the film as soon as it was released for ? and would recommend it to everyone to watch and the fly fishing was amazing really cried at the end it was so sad and you know what they say if you cry at a film it must have been good and this definitely was also ? to the two little boy's that played the ? of norman and paul they were just brilliant children are often left out of the ? list i think because the stars that play them all grown up are such a big profile for the whole film but these children are amazing and should be praised for what they have done don't you think the whole story was so lovely because it was true and was someone's life after all that was shared with us all\""
            ],
            "application/vnd.google.colaboratory.intrinsic+json": {
              "type": "string"
            }
          },
          "metadata": {},
          "execution_count": 26
        }
      ]
    },
    {
      "cell_type": "code",
      "source": [
        "# Vectorize input data\n",
        "def vectorize_sequences(sequences, dimension=10000):\n",
        "    results = np.zeros((len(sequences), dimension)) \n",
        "    for i,sequence in enumerate(sequences):\n",
        "      results[i,sequence] = 1 \n",
        "    return results\n"
      ],
      "metadata": {
        "id": "oPIVYL41Njbx"
      },
      "execution_count": 27,
      "outputs": []
    },
    {
      "cell_type": "code",
      "source": [
        "# Vectorize training Data\n",
        "X_train = vectorize_sequences(train_data)\n",
        "# Vectorize testing Data\n",
        "X_test = vectorize_sequences(test_data)\n",
        "\n",
        "X_train[0]\n",
        "\n",
        "X_train.shape\n",
        "\n"
      ],
      "metadata": {
        "colab": {
          "base_uri": "https://localhost:8080/"
        },
        "id": "im0mNVuONoAa",
        "outputId": "3e57ef25-03f7-41a1-c70a-fab319f31f58"
      },
      "execution_count": 28,
      "outputs": [
        {
          "output_type": "execute_result",
          "data": {
            "text/plain": [
              "(25000, 10000)"
            ]
          },
          "metadata": {},
          "execution_count": 28
        }
      ]
    },
    {
      "cell_type": "code",
      "source": [
        "# Vectorize labels\n",
        "y_train = np.asarray(train_labels).astype('float32')\n",
        "y_test = np.asarray(test_labels).astype('float32')\n"
      ],
      "metadata": {
        "id": "T05VKpE-NrxS"
      },
      "execution_count": 29,
      "outputs": []
    },
    {
      "cell_type": "code",
      "source": [
        "model = models.Sequential()\n",
        "model.add(layers.Dense(16, activation='relu', input_shape=(10000,)))\n",
        "model.add(layers.Dense(16, activation='relu'))\n",
        "model.add(layers.Dense(1, activation='sigmoid'))\n",
        "\n"
      ],
      "metadata": {
        "id": "z42-aUoEOH75"
      },
      "execution_count": 30,
      "outputs": []
    },
    {
      "cell_type": "code",
      "source": [
        "from tensorflow.keras import optimizers\n",
        "from tensorflow.keras import losses\n",
        "from tensorflow.keras import metrics\n",
        "model.compile(optimizer=optimizers.RMSprop(learning_rate=0.001),\n",
        "              loss=losses.binary_crossentropy,\n",
        "              metrics=[metrics.binary_accuracy])\n"
      ],
      "metadata": {
        "id": "EY_xeoRrOJ2v"
      },
      "execution_count": 31,
      "outputs": []
    },
    {
      "cell_type": "code",
      "source": [
        "# Input for Validation\n",
        "X_val = X_train[:10000]\n",
        "partial_X_train = X_train[10000:]\n",
        "# Labels for validation\n",
        "y_val = y_train[:10000]\n",
        "partial_y_train = y_train[10000:]\n"
      ],
      "metadata": {
        "id": "wGEQhY0rONc4"
      },
      "execution_count": 32,
      "outputs": []
    },
    {
      "cell_type": "code",
      "source": [
        "history = model.fit(partial_X_train, partial_y_train, epochs=20, batch_size=512, verbose =1, validation_data=(X_val, y_val))\n",
        "\n",
        "history_dict = history.history\n",
        "history_dict.keys()\n"
      ],
      "metadata": {
        "colab": {
          "base_uri": "https://localhost:8080/"
        },
        "id": "xX8ThxEJOQgo",
        "outputId": "bba86ccc-44ae-471b-c679-8ed366972cfe"
      },
      "execution_count": 33,
      "outputs": [
        {
          "output_type": "stream",
          "name": "stdout",
          "text": [
            "Epoch 1/20\n",
            "30/30 [==============================] - 3s 80ms/step - loss: 0.5333 - binary_accuracy: 0.7833 - val_loss: 0.4182 - val_binary_accuracy: 0.8550\n",
            "Epoch 2/20\n",
            "30/30 [==============================] - 2s 63ms/step - loss: 0.3415 - binary_accuracy: 0.8877 - val_loss: 0.3203 - val_binary_accuracy: 0.8820\n",
            "Epoch 3/20\n",
            "30/30 [==============================] - 2s 64ms/step - loss: 0.2551 - binary_accuracy: 0.9153 - val_loss: 0.3089 - val_binary_accuracy: 0.8763\n",
            "Epoch 4/20\n",
            "30/30 [==============================] - 1s 39ms/step - loss: 0.2083 - binary_accuracy: 0.9278 - val_loss: 0.2755 - val_binary_accuracy: 0.8911\n",
            "Epoch 5/20\n",
            "30/30 [==============================] - 1s 42ms/step - loss: 0.1755 - binary_accuracy: 0.9407 - val_loss: 0.2902 - val_binary_accuracy: 0.8819\n",
            "Epoch 6/20\n",
            "30/30 [==============================] - 1s 37ms/step - loss: 0.1484 - binary_accuracy: 0.9512 - val_loss: 0.2776 - val_binary_accuracy: 0.8869\n",
            "Epoch 7/20\n",
            "30/30 [==============================] - 1s 39ms/step - loss: 0.1297 - binary_accuracy: 0.9580 - val_loss: 0.2886 - val_binary_accuracy: 0.8868\n",
            "Epoch 8/20\n",
            "30/30 [==============================] - 1s 40ms/step - loss: 0.1116 - binary_accuracy: 0.9664 - val_loss: 0.3113 - val_binary_accuracy: 0.8785\n",
            "Epoch 9/20\n",
            "30/30 [==============================] - 1s 39ms/step - loss: 0.0963 - binary_accuracy: 0.9721 - val_loss: 0.3137 - val_binary_accuracy: 0.8838\n",
            "Epoch 10/20\n",
            "30/30 [==============================] - 1s 41ms/step - loss: 0.0846 - binary_accuracy: 0.9745 - val_loss: 0.3364 - val_binary_accuracy: 0.8770\n",
            "Epoch 11/20\n",
            "30/30 [==============================] - 1s 40ms/step - loss: 0.0715 - binary_accuracy: 0.9811 - val_loss: 0.3464 - val_binary_accuracy: 0.8792\n",
            "Epoch 12/20\n",
            "30/30 [==============================] - 2s 62ms/step - loss: 0.0616 - binary_accuracy: 0.9833 - val_loss: 0.3767 - val_binary_accuracy: 0.8726\n",
            "Epoch 13/20\n",
            "30/30 [==============================] - 2s 62ms/step - loss: 0.0521 - binary_accuracy: 0.9870 - val_loss: 0.4277 - val_binary_accuracy: 0.8726\n",
            "Epoch 14/20\n",
            "30/30 [==============================] - 1s 38ms/step - loss: 0.0467 - binary_accuracy: 0.9899 - val_loss: 0.4173 - val_binary_accuracy: 0.8715\n",
            "Epoch 15/20\n",
            "30/30 [==============================] - 1s 38ms/step - loss: 0.0377 - binary_accuracy: 0.9928 - val_loss: 0.4380 - val_binary_accuracy: 0.8752\n",
            "Epoch 16/20\n",
            "30/30 [==============================] - 1s 39ms/step - loss: 0.0330 - binary_accuracy: 0.9930 - val_loss: 0.4540 - val_binary_accuracy: 0.8730\n",
            "Epoch 17/20\n",
            "30/30 [==============================] - 1s 40ms/step - loss: 0.0287 - binary_accuracy: 0.9943 - val_loss: 0.4806 - val_binary_accuracy: 0.8730\n",
            "Epoch 18/20\n",
            "30/30 [==============================] - 1s 40ms/step - loss: 0.0217 - binary_accuracy: 0.9972 - val_loss: 0.5035 - val_binary_accuracy: 0.8723\n",
            "Epoch 19/20\n",
            "30/30 [==============================] - 1s 37ms/step - loss: 0.0195 - binary_accuracy: 0.9977 - val_loss: 0.5295 - val_binary_accuracy: 0.8686\n",
            "Epoch 20/20\n",
            "30/30 [==============================] - 1s 37ms/step - loss: 0.0170 - binary_accuracy: 0.9979 - val_loss: 0.5547 - val_binary_accuracy: 0.8677\n"
          ]
        },
        {
          "output_type": "execute_result",
          "data": {
            "text/plain": [
              "dict_keys(['loss', 'binary_accuracy', 'val_loss', 'val_binary_accuracy'])"
            ]
          },
          "metadata": {},
          "execution_count": 33
        }
      ]
    },
    {
      "cell_type": "code",
      "source": [
        "# Plotting losses\n",
        "loss_values = history_dict['loss']\n",
        "val_loss_values = history_dict['val_loss']\n",
        "epochs = range(1, len(loss_values) + 1)\n",
        "plt.plot(epochs, loss_values, 'bo', label=\"Training Loss\")\n",
        "plt.plot(epochs, val_loss_values, 'b', label=\"Validation Loss\")\n",
        "plt.title('Training and Validation Loss')\n",
        "plt.xlabel('Epochs')\n",
        "plt.ylabel('Loss Value')\n",
        "plt.legend()\n",
        "plt.show()\n"
      ],
      "metadata": {
        "colab": {
          "base_uri": "https://localhost:8080/",
          "height": 472
        },
        "id": "AcdrvRYEOzkH",
        "outputId": "7955a83f-486a-436d-8ee7-89a4572344bb"
      },
      "execution_count": 36,
      "outputs": [
        {
          "output_type": "display_data",
          "data": {
            "text/plain": [
              "<Figure size 640x480 with 1 Axes>"
            ],
            "image/png": "[encoded data removed]"
          },
          "metadata": {}
        }
      ]
    },
    {
      "cell_type": "code",
      "source": [
        "# Training and Validation Accuracy\n",
        "acc_values = history_dict['binary_accuracy']\n",
        "val_acc_values = history_dict['val_binary_accuracy']\n",
        "epochs = range(1, len(loss_values) + 1)\n",
        "plt.plot(epochs, acc_values, 'ro', label=\"Training Accuracy\")\n",
        "plt.plot(epochs, val_acc_values, 'r', label=\"Validation Accuracy\")\n",
        "plt.title('Training and Validation Accuraccy')\n",
        "plt.xlabel('Epochs')\n",
        "plt.ylabel('Accuracy')\n",
        "plt.legend()\n",
        "plt.show()\n"
      ],
      "metadata": {
        "colab": {
          "base_uri": "https://localhost:8080/",
          "height": 472
        },
        "id": "IO2ibJJ4O3GG",
        "outputId": "197a9a48-a8df-43e7-affd-3d9144ea6873"
      },
      "execution_count": 37,
      "outputs": [
        {
          "output_type": "display_data",
          "data": {
            "text/plain": [
              "<Figure size 640x480 with 1 Axes>"
            ],
            "image/png": "[encoded data removed]"
          },
          "metadata": {}
        }
      ]
    },
    {
      "cell_type": "code",
      "source": [
        "model.fit(partial_X_train, partial_y_train, epochs=3, batch_size=512, validation_data=(X_val, y_val))"
      ],
      "metadata": {
        "colab": {
          "base_uri": "https://localhost:8080/"
        },
        "id": "HuHopOlRO7l-",
        "outputId": "1e8d8a8f-0c81-4796-c413-b0b640c2095f"
      },
      "execution_count": 38,
      "outputs": [
        {
          "output_type": "stream",
          "name": "stdout",
          "text": [
            "Epoch 1/3\n",
            "30/30 [==============================] - 2s 57ms/step - loss: 0.0155 - binary_accuracy: 0.9979 - val_loss: 0.5728 - val_binary_accuracy: 0.8694\n",
            "Epoch 2/3\n",
            "30/30 [==============================] - 1s 39ms/step - loss: 0.0104 - binary_accuracy: 0.9995 - val_loss: 0.6483 - val_binary_accuracy: 0.8575\n",
            "Epoch 3/3\n",
            "30/30 [==============================] - 2s 54ms/step - loss: 0.0118 - binary_accuracy: 0.9985 - val_loss: 0.6211 - val_binary_accuracy: 0.8692\n"
          ]
        },
        {
          "output_type": "execute_result",
          "data": {
            "text/plain": [
              "<keras.callbacks.History at 0x7f32d0e00f70>"
            ]
          },
          "metadata": {},
          "execution_count": 38
        }
      ]
    },
    {
      "cell_type": "code",
      "source": [
        "# Making Predictions for testing data\n",
        "np.set_printoptions(suppress=True)\n",
        "result = model.predict(X_test)\n"
      ],
      "metadata": {
        "colab": {
          "base_uri": "https://localhost:8080/"
        },
        "id": "BD-Kvum3PA8m",
        "outputId": "aebcd989-ffc7-4712-8af5-7b09df42cbcc"
      },
      "execution_count": 39,
      "outputs": [
        {
          "output_type": "stream",
          "name": "stdout",
          "text": [
            "782/782 [==============================] - 3s 3ms/step\n"
          ]
        }
      ]
    },
    {
      "cell_type": "code",
      "source": [
        "y_pred = np.zeros(len(result))\n",
        "for i, score in enumerate(result):\n",
        "    y_pred[i] = 1 if score > 0.5 else 0\n"
      ],
      "metadata": {
        "id": "P5dHdRiIPF_W"
      },
      "execution_count": 40,
      "outputs": []
    },
    {
      "cell_type": "code",
      "source": [
        "from sklearn.metrics import mean_absolute_error\n",
        "mae = mean_absolute_error(y_pred, y_test)\n"
      ],
      "metadata": {
        "id": "opLXy6A1PKTd"
      },
      "execution_count": 41,
      "outputs": []
    },
    {
      "cell_type": "code",
      "source": [],
      "metadata": {
        "id": "S6DPJeBoRW0v"
      },
      "execution_count": 43,
      "outputs": []
    }
  ]
}